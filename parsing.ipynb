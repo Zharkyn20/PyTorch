{
  "nbformat": 4,
  "nbformat_minor": 0,
  "metadata": {
    "colab": {
      "provenance": [],
      "include_colab_link": true
    },
    "kernelspec": {
      "name": "python3",
      "display_name": "Python 3"
    },
    "language_info": {
      "name": "python"
    }
  },
  "cells": [
    {
      "cell_type": "markdown",
      "metadata": {
        "id": "view-in-github",
        "colab_type": "text"
      },
      "source": [
        "<a href=\"https://colab.research.google.com/github/Zharkyn20/PyTorch/blob/main/parsing.ipynb\" target=\"_parent\"><img src=\"https://colab.research.google.com/assets/colab-badge.svg\" alt=\"Open In Colab\"/></a>"
      ]
    },
    {
      "cell_type": "markdown",
      "source": [
        "Дана статья из википедии про [Александра Македонского](https://ru.wikipedia.org/wiki/Александр_Македонский).</br>\n",
        "</br>"
      ],
      "metadata": {
        "id": "ronzC60TklkR"
      }
    },
    {
      "cell_type": "code",
      "source": [
        "import requests\n",
        "from bs4 import BeautifulSoup as bs\n",
        "\n",
        "\n",
        "url = \"https://ru.wikipedia.org/wiki/%D0%90%D0%BB%D0%B5%D0%BA%D1%81%D0%B0%D0%BD%D0%B4%D1%80_%D0%9C%D0%B0%D0%BA%D0%B5%D0%B4%D0%BE%D0%BD%D1%81%D0%BA%D0%B8%D0%B9\"\n",
        "text = requests.get(url).text\n",
        "\n",
        "bs_text = bs(text, \"html.parser\")"
      ],
      "metadata": {
        "id": "Ca-yTwKqi__2"
      },
      "execution_count": 2,
      "outputs": []
    },
    {
      "cell_type": "markdown",
      "source": [
        "Task 1.</br>\n",
        "Извлеките древне-гереческое написание его имени в переменную `original`"
      ],
      "metadata": {
        "id": "-quxTLoJk7VQ"
      }
    },
    {
      "cell_type": "code",
      "source": [
        "original = bs_text.find(\"span\", lang=\"grc\").text\n",
        "print(original)"
      ],
      "metadata": {
        "id": "ltmzr7gek7J6",
        "colab": {
          "base_uri": "https://localhost:8080/"
        },
        "outputId": "024d22df-51ab-43cf-8ebb-e0c1187a3e47"
      },
      "execution_count": 4,
      "outputs": [
        {
          "output_type": "stream",
          "name": "stdout",
          "text": [
            "Ἀλέξανδρος ὁ Μέγας\n"
          ]
        }
      ]
    },
    {
      "cell_type": "markdown",
      "source": [
        "Task 2.</br>\n",
        "Извлеките информацию о его рождении и смерти из правой колонны под фотографией его бюста в переменные `birth, death `\n"
      ],
      "metadata": {
        "id": "18HFmx9tlo9p"
      }
    },
    {
      "cell_type": "code",
      "source": [
        "birth = bs_text.find(\"th\", string=\"Рождение\").find_next_sibling(\"td\").text\n",
        "print(birth)\n",
        "\n",
        "death = bs_text.find(\"th\", string=\"Смерть\").find_next_sibling(\"td\").text\n",
        "print(death)"
      ],
      "metadata": {
        "id": "Zd5hrHFtlop_",
        "colab": {
          "base_uri": "https://localhost:8080/"
        },
        "outputId": "608b7c27-2407-427c-ddc7-403afb864797"
      },
      "execution_count": 8,
      "outputs": [
        {
          "output_type": "stream",
          "name": "stdout",
          "text": [
            "\n",
            "20/23 июля или 6/10 октября 356 года до н. э.Пелла\n",
            "\n",
            "10/13 июня 323 года до н. э.Вавилон\n"
          ]
        }
      ]
    },
    {
      "cell_type": "markdown",
      "source": [
        "Task 3.</br>\n",
        "Извлеките имена всех его детей в лист `children`\n"
      ],
      "metadata": {
        "id": "KwKfFzFQlpmS"
      }
    },
    {
      "cell_type": "code",
      "source": [
        "children = bs_text.find(\"th\", string=\"Дети\").find_next_sibling(\"td\").text\n",
        "print(children)"
      ],
      "metadata": {
        "id": "ImRdfT4VlE_m",
        "colab": {
          "base_uri": "https://localhost:8080/"
        },
        "outputId": "bf6acaff-fdaa-4ef8-b333-db46915099b8"
      },
      "execution_count": 9,
      "outputs": [
        {
          "output_type": "stream",
          "name": "stdout",
          "text": [
            "\n",
            "Геракл (внебрачный, от Барсины)Александр IV (от Роксаны)\n"
          ]
        }
      ]
    },
    {
      "cell_type": "markdown",
      "source": [
        "Task 4.</br>\n",
        "В секции о юности найдите цитату Плутарха об Александре и извлеките ее в переменную `plutarh`"
      ],
      "metadata": {
        "id": "x2-KMLgBlp_3"
      }
    },
    {
      "cell_type": "code",
      "source": [
        "plutarh = bs_text.find(\"blockquote\").text\n",
        "print(plutarh)"
      ],
      "metadata": {
        "id": "m9fIrCNmk6gC",
        "colab": {
          "base_uri": "https://localhost:8080/"
        },
        "outputId": "41526649-1d8e-4985-9408-41cb879f0fa4"
      },
      "execution_count": 11,
      "outputs": [
        {
          "output_type": "stream",
          "name": "stdout",
          "text": [
            "\n",
            "\n",
            "Аттал… опьянев во время пиршества, стал призывать македонян молить богов, чтобы у Филиппа и Клеопатры родился законный наследник престола. Взбешённый этим Александр вскричал: «Так что же, негодяй, я по-твоему незаконнорождённый, что ли?» — и швырнул в Аттала чашу. Филипп бросился на сына, обнажив меч, но по счастью для обоих гнев и вино сделали своё дело: царь споткнулся и упал. Александр, издеваясь над отцом, сказал: «Смотрите, люди! Этот человек, который собирается переправиться из Европы в Азию, растянулся, переправляясь от ложа к ложу».\n",
            "\n",
            "— Плутарх. Александр, 9.[44]\n"
          ]
        }
      ]
    },
    {
      "cell_type": "markdown",
      "source": [
        "Task 5.</br>\n",
        "В секции \"Царь Азии\" посчитайте сколько раз упоминается имя Александра `al_count`"
      ],
      "metadata": {
        "id": "dmLOyCpMmfFf"
      }
    },
    {
      "cell_type": "code",
      "execution_count": 24,
      "metadata": {
        "id": "P4N1F0BfkjHk",
        "colab": {
          "base_uri": "https://localhost:8080/"
        },
        "outputId": "736f0d1a-696e-4042-bfab-34f35a9f69e9"
      },
      "outputs": [
        {
          "output_type": "stream",
          "name": "stdout",
          "text": [
            "Александра\n",
            "Александра\n",
            "Александр\n",
            "Александра\n",
            "Александр\n",
            "Александр\n",
            "Александра\n",
            "Александр\n",
            "Александр[157][158].\n",
            "Александра,\n",
            "10\n"
          ]
        }
      ],
      "source": [
        "title = bs_text.find(\"span\", id=\"Царь_Азии\")\n",
        "parent = title.find_previous(\"h3\")\n",
        "\n",
        "element = parent.find_next_sibling()\n",
        "section_text = []\n",
        "\n",
        "while element.name != \"h3\":\n",
        "  element = element.find_next_sibling()\n",
        "  if not element.name == \"p\":\n",
        "    continue\n",
        "\n",
        "  section_text.append(element.text)\n",
        "\n",
        "al_count = 0\n",
        "\n",
        "for text in section_text:\n",
        "  splitted = text.split()\n",
        "  for word in splitted:\n",
        "    if \"Александр\" in word:\n",
        "      al_count += 1\n",
        "\n",
        "print(al_count)"
      ]
    },
    {
      "cell_type": "code",
      "source": [],
      "metadata": {
        "id": "zmcvV0yfqjyd"
      },
      "execution_count": null,
      "outputs": []
    },
    {
      "cell_type": "markdown",
      "source": [
        "Дан сайт справочник по [питону](https://pythonworld.ru/tipy-dannyx-v-python/slovari-dict-funkcii-i-metody-slovarej.html)"
      ],
      "metadata": {
        "id": "JH4N0DE0nxsS"
      }
    },
    {
      "cell_type": "code",
      "source": [
        "url = \"https://pythonworld.ru/tipy-dannyx-v-python/slovari-dict-funkcii-i-metody-slovarej.html\"\n",
        "\n",
        "text2 = requests.get(url).text\n",
        "bs_text2 = bs(text2, \"html.parser\")\n"
      ],
      "metadata": {
        "id": "Yi1LbU1rqlD8"
      },
      "execution_count": 26,
      "outputs": []
    },
    {
      "cell_type": "markdown",
      "source": [
        "Task 6.</br>\n",
        "Извлеките все названия методов словарей и описание того что они делают в словарь `methods` с названием метода в качестве ключа и описанием в значение. Пример:` {'str.replace()':'Заменяет часть на слова на что-то другое'}`"
      ],
      "metadata": {
        "id": "TQyu_IuFn2jf"
      }
    },
    {
      "cell_type": "code",
      "source": [
        "div = bs_text2.find(\"div\", id=\"section-1\")\n",
        "\n",
        "element = div.find_next(\"p\").text\n",
        "print(element)\n",
        "while element.name !="
      ],
      "metadata": {
        "id": "mjpC6VCcnroP",
        "colab": {
          "base_uri": "https://localhost:8080/"
        },
        "outputId": "caca9590-8977-4932-efc9-3c91f854c001"
      },
      "execution_count": 28,
      "outputs": [
        {
          "output_type": "stream",
          "name": "stdout",
          "text": [
            "dict.clear() - очищает словарь.\n"
          ]
        }
      ]
    },
    {
      "cell_type": "markdown",
      "source": [
        "Task 7.</br>\n",
        "Дан сайт с информацией о профессорах [MIT](https://be.mit.edu/directory?field_faculty_research_areas_tid=66&field_faculty_centers_tid=All&field_faculty_rank_tid=All).</br>\n",
        "Извлеките в список словарей `profs` данные об имени, фамилии и статусе всех людей. Ключи каждого словаря first_name, last_name, rank"
      ],
      "metadata": {
        "id": "s1p3Nb8PpAo0"
      }
    },
    {
      "cell_type": "code",
      "source": [],
      "metadata": {
        "id": "Rsvka3wcnxHy"
      },
      "execution_count": null,
      "outputs": []
    }
  ]
}