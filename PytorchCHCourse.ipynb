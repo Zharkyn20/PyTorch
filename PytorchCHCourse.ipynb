{
  "nbformat": 4,
  "nbformat_minor": 0,
  "metadata": {
    "colab": {
      "provenance": [],
      "toc_visible": true,
      "authorship_tag": "ABX9TyPJVfyTtgjpKnoI9+YeMGNd",
      "include_colab_link": true
    },
    "kernelspec": {
      "name": "python3",
      "display_name": "Python 3"
    },
    "language_info": {
      "name": "python"
    }
  },
  "cells": [
    {
      "cell_type": "markdown",
      "metadata": {
        "id": "view-in-github",
        "colab_type": "text"
      },
      "source": [
        "<a href=\"https://colab.research.google.com/github/Zharkyn20/PyTorch/blob/main/PytorchCHCourse.ipynb\" target=\"_parent\"><img src=\"https://colab.research.google.com/assets/colab-badge.svg\" alt=\"Open In Colab\"/></a>"
      ]
    },
    {
      "cell_type": "markdown",
      "source": [
        "Reshaping\n",
        "\n"
      ],
      "metadata": {
        "id": "RFRm5vnEHT8I"
      }
    },
    {
      "cell_type": "code",
      "execution_count": null,
      "metadata": {
        "colab": {
          "base_uri": "https://localhost:8080/"
        },
        "id": "QPCk_Pz7FIRJ",
        "outputId": "6e21dd76-f902-4c22-c471-6c298f54e010"
      },
      "outputs": [
        {
          "output_type": "execute_result",
          "data": {
            "text/plain": [
              "(tensor([1, 2, 3, 4, 5, 6, 7, 8, 9]), torch.Size([9]))"
            ]
          },
          "metadata": {},
          "execution_count": 9
        }
      ],
      "source": [
        "import torch\n",
        "x = torch.arange(1, 10)\n",
        "x, x.shape"
      ]
    },
    {
      "cell_type": "code",
      "source": [
        "x_reshaped = x.reshape(3, 3)\n",
        "x_reshaped, x_reshaped.shape"
      ],
      "metadata": {
        "colab": {
          "base_uri": "https://localhost:8080/"
        },
        "id": "9W5iwqFLGp9b",
        "outputId": "46a4f2fe-e836-43ef-e460-65f25fb453ae"
      },
      "execution_count": null,
      "outputs": [
        {
          "output_type": "execute_result",
          "data": {
            "text/plain": [
              "(tensor([[1, 2, 3],\n",
              "         [4, 5, 6],\n",
              "         [7, 8, 9]]),\n",
              " torch.Size([3, 3]))"
            ]
          },
          "metadata": {},
          "execution_count": 10
        }
      ]
    },
    {
      "cell_type": "markdown",
      "source": [
        "Change the view\n"
      ],
      "metadata": {
        "id": "059Fs8jpHRWn"
      }
    },
    {
      "cell_type": "code",
      "source": [
        "z = x.view(1, 9)\n",
        "z, z.shape"
      ],
      "metadata": {
        "colab": {
          "base_uri": "https://localhost:8080/"
        },
        "id": "mEdixeGsHP-n",
        "outputId": "3de18c80-c839-482c-d852-0b3480361f52"
      },
      "execution_count": null,
      "outputs": [
        {
          "output_type": "execute_result",
          "data": {
            "text/plain": [
              "(tensor([[1, 2, 3, 4, 5, 6, 7, 8, 9]]), torch.Size([1, 9]))"
            ]
          },
          "metadata": {},
          "execution_count": 11
        }
      ]
    },
    {
      "cell_type": "code",
      "source": [
        "z[:, 0] = 5\n",
        "z, x"
      ],
      "metadata": {
        "colab": {
          "base_uri": "https://localhost:8080/"
        },
        "id": "32fo6zvZH7HT",
        "outputId": "cf955961-816d-4ae9-b0f7-221895339a3e"
      },
      "execution_count": null,
      "outputs": [
        {
          "output_type": "execute_result",
          "data": {
            "text/plain": [
              "(tensor([[5, 2, 3, 4, 5, 6, 7, 8, 9]]), tensor([5, 2, 3, 4, 5, 6, 7, 8, 9]))"
            ]
          },
          "metadata": {},
          "execution_count": 16
        }
      ]
    },
    {
      "cell_type": "code",
      "source": [
        "x_stacked = torch.stack([x, x, x, x], dim=1)\n",
        "x_stacked"
      ],
      "metadata": {
        "colab": {
          "base_uri": "https://localhost:8080/"
        },
        "id": "tuhyQgTvKkxn",
        "outputId": "56f1b512-f938-4d4e-cf75-ecb7f4b908a3"
      },
      "execution_count": null,
      "outputs": [
        {
          "output_type": "execute_result",
          "data": {
            "text/plain": [
              "tensor([[5, 5, 5, 5],\n",
              "        [2, 2, 2, 2],\n",
              "        [3, 3, 3, 3],\n",
              "        [4, 4, 4, 4],\n",
              "        [5, 5, 5, 5],\n",
              "        [6, 6, 6, 6],\n",
              "        [7, 7, 7, 7],\n",
              "        [8, 8, 8, 8],\n",
              "        [9, 9, 9, 9]])"
            ]
          },
          "metadata": {},
          "execution_count": 23
        }
      ]
    },
    {
      "cell_type": "code",
      "source": [
        "x_squeezed = x.squeeze()\n",
        "x_squeezed"
      ],
      "metadata": {
        "colab": {
          "base_uri": "https://localhost:8080/"
        },
        "id": "bnZAvq6mKwTE",
        "outputId": "511de676-41c5-41f8-e069-b8ef596264c7"
      },
      "execution_count": null,
      "outputs": [
        {
          "output_type": "execute_result",
          "data": {
            "text/plain": [
              "tensor([5, 2, 3, 4, 5, 6, 7, 8, 9])"
            ]
          },
          "metadata": {},
          "execution_count": 28
        }
      ]
    },
    {
      "cell_type": "code",
      "source": [
        "y = torch.arange(1,10)\n",
        "y, y.shape"
      ],
      "metadata": {
        "colab": {
          "base_uri": "https://localhost:8080/"
        },
        "id": "-2lxBkRfLd5D",
        "outputId": "3aa18ddf-c7d2-433b-936b-0a70544c119d"
      },
      "execution_count": null,
      "outputs": [
        {
          "output_type": "execute_result",
          "data": {
            "text/plain": [
              "(tensor([1, 2, 3, 4, 5, 6, 7, 8, 9]), torch.Size([9]))"
            ]
          },
          "metadata": {},
          "execution_count": 32
        }
      ]
    },
    {
      "cell_type": "code",
      "source": [
        "y.squeeze()\n"
      ],
      "metadata": {
        "colab": {
          "base_uri": "https://localhost:8080/"
        },
        "id": "9-2ZeNLoL657",
        "outputId": "06b5af8e-047e-418d-b774-129ed976697d"
      },
      "execution_count": null,
      "outputs": [
        {
          "output_type": "execute_result",
          "data": {
            "text/plain": [
              "tensor([1, 2, 3, 4, 5, 6, 7, 8, 9])"
            ]
          },
          "metadata": {},
          "execution_count": 31
        }
      ]
    },
    {
      "cell_type": "code",
      "source": [
        "x = torch.randn(2, 3, 5)\n",
        "x.size(), x"
      ],
      "metadata": {
        "colab": {
          "base_uri": "https://localhost:8080/"
        },
        "id": "VGnGtt9aOPXg",
        "outputId": "ef0c5481-c1af-4fd5-90cf-acdc766c59be"
      },
      "execution_count": null,
      "outputs": [
        {
          "output_type": "execute_result",
          "data": {
            "text/plain": [
              "(torch.Size([2, 3, 5]),\n",
              " tensor([[[ 1.8749,  1.5322,  3.0204, -2.6004,  1.8911],\n",
              "          [ 0.1157, -0.8364, -1.0474,  0.0611, -0.5684],\n",
              "          [-0.1637, -0.5705, -0.9781, -1.9922,  1.6114]],\n",
              " \n",
              "         [[ 0.0355,  1.3127, -0.1631, -1.2329,  0.8266],\n",
              "          [ 0.0767, -0.0524,  0.3951,  0.1592,  1.0043],\n",
              "          [ 1.0769, -0.9797,  0.0893, -0.5116,  0.0167]]]))"
            ]
          },
          "metadata": {},
          "execution_count": 40
        }
      ]
    },
    {
      "cell_type": "code",
      "source": [
        "\n",
        "\n",
        "x_permuted = torch.permute(x, (2, 0, 1))\n",
        "x_permuted"
      ],
      "metadata": {
        "colab": {
          "base_uri": "https://localhost:8080/"
        },
        "id": "8vdXRoYEMDfO",
        "outputId": "6f5a3201-94ba-4142-e507-dc62497bd180"
      },
      "execution_count": null,
      "outputs": [
        {
          "output_type": "execute_result",
          "data": {
            "text/plain": [
              "tensor([[[ 1.8749,  0.1157, -0.1637],\n",
              "         [ 0.0355,  0.0767,  1.0769]],\n",
              "\n",
              "        [[ 1.5322, -0.8364, -0.5705],\n",
              "         [ 1.3127, -0.0524, -0.9797]],\n",
              "\n",
              "        [[ 3.0204, -1.0474, -0.9781],\n",
              "         [-0.1631,  0.3951,  0.0893]],\n",
              "\n",
              "        [[-2.6004,  0.0611, -1.9922],\n",
              "         [-1.2329,  0.1592, -0.5116]],\n",
              "\n",
              "        [[ 1.8911, -0.5684,  1.6114],\n",
              "         [ 0.8266,  1.0043,  0.0167]]])"
            ]
          },
          "metadata": {},
          "execution_count": 41
        }
      ]
    },
    {
      "cell_type": "code",
      "source": [
        "x_permuted[0, 0, 0] = 555\n",
        "x_permuted"
      ],
      "metadata": {
        "colab": {
          "base_uri": "https://localhost:8080/"
        },
        "id": "dshc0lGnM5Sr",
        "outputId": "16a9dd89-47e5-4ea8-d8ff-d2634b141bb5"
      },
      "execution_count": null,
      "outputs": [
        {
          "output_type": "execute_result",
          "data": {
            "text/plain": [
              "tensor([[[ 5.5500e+02,  1.1568e-01, -1.6370e-01],\n",
              "         [ 3.5491e-02,  7.6749e-02,  1.0769e+00]],\n",
              "\n",
              "        [[ 1.5322e+00, -8.3645e-01, -5.7055e-01],\n",
              "         [ 1.3127e+00, -5.2436e-02, -9.7970e-01]],\n",
              "\n",
              "        [[ 3.0204e+00, -1.0474e+00, -9.7811e-01],\n",
              "         [-1.6307e-01,  3.9508e-01,  8.9299e-02]],\n",
              "\n",
              "        [[-2.6004e+00,  6.1096e-02, -1.9922e+00],\n",
              "         [-1.2329e+00,  1.5919e-01, -5.1157e-01]],\n",
              "\n",
              "        [[ 1.8911e+00, -5.6840e-01,  1.6114e+00],\n",
              "         [ 8.2663e-01,  1.0043e+00,  1.6717e-02]]])"
            ]
          },
          "metadata": {},
          "execution_count": 55
        }
      ]
    },
    {
      "cell_type": "code",
      "source": [
        "x = torch.arange(1, 10).reshape([1, 3, 3])"
      ],
      "metadata": {
        "id": "AQwm_R_xOgzg"
      },
      "execution_count": null,
      "outputs": []
    },
    {
      "cell_type": "code",
      "source": [
        "x, x.shape"
      ],
      "metadata": {
        "colab": {
          "base_uri": "https://localhost:8080/"
        },
        "id": "pLh75HmOP0Jz",
        "outputId": "aa23c5a0-8eeb-4d0d-8986-c67feed26956"
      },
      "execution_count": null,
      "outputs": [
        {
          "output_type": "execute_result",
          "data": {
            "text/plain": [
              "(tensor([[[1, 2, 3],\n",
              "          [4, 5, 6],\n",
              "          [7, 8, 9]]]),\n",
              " torch.Size([1, 3, 3]))"
            ]
          },
          "metadata": {},
          "execution_count": 57
        }
      ]
    },
    {
      "cell_type": "code",
      "source": [
        "x[0]"
      ],
      "metadata": {
        "colab": {
          "base_uri": "https://localhost:8080/"
        },
        "id": "263VgbLCP1xw",
        "outputId": "932646e8-0533-4386-df41-f42227c97506"
      },
      "execution_count": null,
      "outputs": [
        {
          "output_type": "execute_result",
          "data": {
            "text/plain": [
              "tensor([[1, 2, 3],\n",
              "        [4, 5, 6],\n",
              "        [7, 8, 9]])"
            ]
          },
          "metadata": {},
          "execution_count": 58
        }
      ]
    },
    {
      "cell_type": "code",
      "source": [
        "x[0, 0]"
      ],
      "metadata": {
        "colab": {
          "base_uri": "https://localhost:8080/"
        },
        "id": "1JDE_bHuP56r",
        "outputId": "9c2eb181-afa1-4279-fde1-523a5b9b6730"
      },
      "execution_count": null,
      "outputs": [
        {
          "output_type": "execute_result",
          "data": {
            "text/plain": [
              "tensor([1, 2, 3])"
            ]
          },
          "metadata": {},
          "execution_count": 59
        }
      ]
    },
    {
      "cell_type": "code",
      "source": [
        "x[0, 0, 0]"
      ],
      "metadata": {
        "colab": {
          "base_uri": "https://localhost:8080/"
        },
        "id": "uIbI08lNP_ky",
        "outputId": "1742263a-e7a7-459c-e581-9132e9c30f77"
      },
      "execution_count": null,
      "outputs": [
        {
          "output_type": "execute_result",
          "data": {
            "text/plain": [
              "tensor(1)"
            ]
          },
          "metadata": {},
          "execution_count": 60
        }
      ]
    },
    {
      "cell_type": "code",
      "source": [
        "x[:, :, 1]"
      ],
      "metadata": {
        "colab": {
          "base_uri": "https://localhost:8080/"
        },
        "id": "haDBnvxVQG8e",
        "outputId": "ffc87205-0fc5-45c8-fc2a-128476958c95"
      },
      "execution_count": null,
      "outputs": [
        {
          "output_type": "execute_result",
          "data": {
            "text/plain": [
              "tensor([[2, 5, 8]])"
            ]
          },
          "metadata": {},
          "execution_count": 62
        }
      ]
    },
    {
      "cell_type": "code",
      "source": [
        "x[:, :2, 1]"
      ],
      "metadata": {
        "colab": {
          "base_uri": "https://localhost:8080/"
        },
        "id": "u5alNGW9QxQh",
        "outputId": "b2572608-0627-4cfe-b944-913dea0cbb28"
      },
      "execution_count": null,
      "outputs": [
        {
          "output_type": "execute_result",
          "data": {
            "text/plain": [
              "tensor([[2, 5]])"
            ]
          },
          "metadata": {},
          "execution_count": 63
        }
      ]
    },
    {
      "cell_type": "code",
      "source": [
        "x[0, 2, 2]"
      ],
      "metadata": {
        "colab": {
          "base_uri": "https://localhost:8080/"
        },
        "id": "hLBzMWEnQ6oW",
        "outputId": "62bfa2a7-69f1-4a3e-e9bc-21ae522aaaf1"
      },
      "execution_count": null,
      "outputs": [
        {
          "output_type": "execute_result",
          "data": {
            "text/plain": [
              "tensor(9)"
            ]
          },
          "metadata": {},
          "execution_count": 64
        }
      ]
    },
    {
      "cell_type": "code",
      "source": [
        "x[:, :, 2]"
      ],
      "metadata": {
        "colab": {
          "base_uri": "https://localhost:8080/"
        },
        "id": "LzI92szgRb8I",
        "outputId": "2224a44e-6fe1-4c63-d443-dbe2040bc4d6"
      },
      "execution_count": null,
      "outputs": [
        {
          "output_type": "execute_result",
          "data": {
            "text/plain": [
              "tensor([[3, 6, 9]])"
            ]
          },
          "metadata": {},
          "execution_count": 65
        }
      ]
    },
    {
      "cell_type": "code",
      "source": [],
      "metadata": {
        "id": "K3UQpLaeRizt"
      },
      "execution_count": null,
      "outputs": []
    }
  ]
}