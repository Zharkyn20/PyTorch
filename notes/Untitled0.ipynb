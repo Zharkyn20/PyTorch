{
  "nbformat": 4,
  "nbformat_minor": 0,
  "metadata": {
    "colab": {
      "provenance": [],
      "authorship_tag": "ABX9TyMJwI0jI/k/Qp7V1RzksGIc",
      "include_colab_link": true
    },
    "kernelspec": {
      "name": "python3",
      "display_name": "Python 3"
    },
    "language_info": {
      "name": "python"
    }
  },
  "cells": [
    {
      "cell_type": "markdown",
      "metadata": {
        "id": "view-in-github",
        "colab_type": "text"
      },
      "source": [
        "<a href=\"https://colab.research.google.com/github/Zharkyn20/PyTorch/blob/main/notes/Untitled0.ipynb\" target=\"_parent\"><img src=\"https://colab.research.google.com/assets/colab-badge.svg\" alt=\"Open In Colab\"/></a>"
      ]
    },
    {
      "cell_type": "code",
      "execution_count": null,
      "metadata": {
        "colab": {
          "base_uri": "https://localhost:8080/"
        },
        "id": "mxXEJQQTUgdY",
        "outputId": "8300a0a1-f003-4679-9047-ad328e29687e"
      },
      "outputs": [
        {
          "output_type": "execute_result",
          "data": {
            "text/plain": [
              "(array([1., 2., 3., 4., 5., 6., 7.]),\n",
              " tensor([1., 2., 3., 4., 5., 6., 7.], dtype=torch.float64))"
            ]
          },
          "metadata": {},
          "execution_count": 4
        }
      ],
      "source": [
        "import torch\n",
        "import numpy as np\n",
        "\n",
        "array = np.arange(1.0, 8.0)\n",
        "tensor = torch.from_numpy(array)\n",
        "array, tensor"
      ]
    },
    {
      "cell_type": "code",
      "source": [
        "array = array + 1"
      ],
      "metadata": {
        "id": "8Zayg9mIUocV"
      },
      "execution_count": null,
      "outputs": []
    },
    {
      "cell_type": "code",
      "source": [
        "array, tensor"
      ],
      "metadata": {
        "colab": {
          "base_uri": "https://localhost:8080/"
        },
        "id": "39Tu1blDV0JB",
        "outputId": "855bc5ad-fcda-4508-a191-26f35a6f6a2a"
      },
      "execution_count": null,
      "outputs": [
        {
          "output_type": "execute_result",
          "data": {
            "text/plain": [
              "(array([2., 3., 4., 5., 6., 7., 8.]),\n",
              " tensor([1., 2., 3., 4., 5., 6., 7.], dtype=torch.float64))"
            ]
          },
          "metadata": {},
          "execution_count": 6
        }
      ]
    },
    {
      "cell_type": "code",
      "source": [
        "tenxor = torch.ones(7)\n",
        "numpy_tenxor = tenxor.numpy()\n",
        "tenxor, numpy_tenxor"
      ],
      "metadata": {
        "colab": {
          "base_uri": "https://localhost:8080/"
        },
        "id": "CpwLFuOMV1lQ",
        "outputId": "68c4dc02-3061-49e3-d7c2-4818bcea7d2f"
      },
      "execution_count": null,
      "outputs": [
        {
          "output_type": "execute_result",
          "data": {
            "text/plain": [
              "(tensor([1., 1., 1., 1., 1., 1., 1.]),\n",
              " array([1., 1., 1., 1., 1., 1., 1.], dtype=float32))"
            ]
          },
          "metadata": {},
          "execution_count": 7
        }
      ]
    },
    {
      "cell_type": "code",
      "source": [
        "tenxor = tenxor + 1\n",
        "tenxor, numpy_tenxor"
      ],
      "metadata": {
        "colab": {
          "base_uri": "https://localhost:8080/"
        },
        "id": "9Xoa7h3wWKJN",
        "outputId": "f545379c-8d11-44dc-d5dc-7e07536ab318"
      },
      "execution_count": null,
      "outputs": [
        {
          "output_type": "execute_result",
          "data": {
            "text/plain": [
              "(tensor([2., 2., 2., 2., 2., 2., 2.]),\n",
              " array([1., 1., 1., 1., 1., 1., 1.], dtype=float32))"
            ]
          },
          "metadata": {},
          "execution_count": 8
        }
      ]
    },
    {
      "cell_type": "markdown",
      "source": [
        "Reproducibility\n"
      ],
      "metadata": {
        "id": "62Wx9-FLWS_R"
      }
    },
    {
      "cell_type": "code",
      "source": [
        "torch.rand(3, 3)"
      ],
      "metadata": {
        "colab": {
          "base_uri": "https://localhost:8080/"
        },
        "id": "BcxcjjnwWe1p",
        "outputId": "e6aafb15-5fa2-4cd9-c5e4-e74cabf4647d"
      },
      "execution_count": null,
      "outputs": [
        {
          "output_type": "execute_result",
          "data": {
            "text/plain": [
              "tensor([[0.3191, 0.7392, 0.9986],\n",
              "        [0.6637, 0.5883, 0.6997],\n",
              "        [0.5718, 0.8311, 0.6604]])"
            ]
          },
          "metadata": {},
          "execution_count": 10
        }
      ]
    },
    {
      "cell_type": "code",
      "source": [
        "random_a = torch.rand(3,4)\n",
        "random_b = torch.rand(3, 4)\n",
        "\n",
        "print(random_a)\n",
        "print(random_b)\n",
        "print(random_a == random_b)"
      ],
      "metadata": {
        "colab": {
          "base_uri": "https://localhost:8080/"
        },
        "id": "3ete9ZlYXCxo",
        "outputId": "a96af198-07fd-4bca-a1fe-425c66a9ce5b"
      },
      "execution_count": null,
      "outputs": [
        {
          "output_type": "stream",
          "name": "stdout",
          "text": [
            "tensor([[0.7127, 0.3857, 0.9351, 0.0495],\n",
            "        [0.9469, 0.2884, 0.5358, 0.1908],\n",
            "        [0.9634, 0.1729, 0.2896, 0.4335]])\n",
            "tensor([[0.7678, 0.0653, 0.8310, 0.5723],\n",
            "        [0.3293, 0.8956, 0.6362, 0.2943],\n",
            "        [0.6667, 0.3811, 0.5859, 0.2452]])\n",
            "tensor([[False, False, False, False],\n",
            "        [False, False, False, False],\n",
            "        [False, False, False, False]])\n"
          ]
        }
      ]
    },
    {
      "cell_type": "markdown",
      "source": [
        "Random but reproducible tensors"
      ],
      "metadata": {
        "id": "ZV8oBcFAXrU8"
      }
    },
    {
      "cell_type": "code",
      "source": [
        "random_seed = 1234567890\n",
        "torch.manual_seed(random_seed)\n",
        "random_c = torch.rand(4, 2)\n",
        "\n",
        "torch.manual_seed(random_seed)\n",
        "random_d = torch.rand(4, 2)\n",
        "\n",
        "print(random_c)\n",
        "print(random_d)\n",
        "print(random_c == random_d)"
      ],
      "metadata": {
        "colab": {
          "base_uri": "https://localhost:8080/"
        },
        "id": "m6KjOW76YFZ_",
        "outputId": "33c56f10-b0a2-4a7c-c176-129d1e72d542"
      },
      "execution_count": null,
      "outputs": [
        {
          "output_type": "stream",
          "name": "stdout",
          "text": [
            "tensor([[0.4115, 0.1703],\n",
            "        [0.4556, 0.1519],\n",
            "        [0.5030, 0.5041],\n",
            "        [0.2636, 0.5436]])\n",
            "tensor([[0.4115, 0.1703],\n",
            "        [0.4556, 0.1519],\n",
            "        [0.5030, 0.5041],\n",
            "        [0.2636, 0.5436]])\n",
            "tensor([[True, True],\n",
            "        [True, True],\n",
            "        [True, True],\n",
            "        [True, True]])\n"
          ]
        }
      ]
    },
    {
      "cell_type": "markdown",
      "source": [
        "Running tensors on gpus; make faster calculations"
      ],
      "metadata": {
        "id": "G6XgHygXYnzL"
      }
    },
    {
      "cell_type": "code",
      "source": [],
      "metadata": {
        "id": "6sgnTq0rZmqV"
      },
      "execution_count": null,
      "outputs": []
    }
  ]
}